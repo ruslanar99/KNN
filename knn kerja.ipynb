{
 "cells": [
  {
   "cell_type": "markdown",
   "metadata": {},
   "source": [
    "<h1 align=\"center\"><front size=\"5\">Penerapan K-Nearest Neighbor untuk Pola Penyebaran Penduduk di Kendari tahun 2015</font></h1>"
   ]
  },
  {
   "cell_type": "markdown",
   "metadata": {},
   "source": [
    "### STUDY KASUS\n",
    "Penyebaran penduduk merupakan suatu hal yang perlu diketahui, hal ini disebabkan karena setiap kebijakan pembangunan maupun pemanfaatan lahan disuatu daerah harus memerhatikan keadaan demografisnya, untuk masalah demografis dalam hal ini yaitu penyebaran penduduk metode yang biasa digunakan yaitu metode K-Nearest Neighbor. Sehingga masalah yang akan dibahas yaitu pola penyebaran hunian dengan menggunakan metode K-Nearest Neighbor.K-Nearest Neighbor KNN adalah algoritma yang berfungsi untuk melakukan klasifikasi suatu data berdasarkan data pembelajaran (train data sets), yang diambil dari k tetangga terdekatnya (nearest neighbors). KNN dapat digunakan untuk masalah prediksi klasifikasi dan regresi. \n",
    "\n",
    "### TUJUAN\n",
    "Tujuan kami adalah untuk mengetahui pola penyebaran hunian dengan metode K Nearest Neighbour. "
   ]
  },
  {
   "cell_type": "code",
   "execution_count": null,
   "metadata": {},
   "outputs": [],
   "source": []
  },
  {
   "cell_type": "code",
   "execution_count": null,
   "metadata": {},
   "outputs": [],
   "source": [
    "# Pertama-tama mengimpor beberapa library yang dibutuhkan.\n",
    "import numpy as np  \n",
    "import matplotlib.pyplot as plt  \n",
    "import pandas as pd"
   ]
  },
  {
   "cell_type": "code",
   "execution_count": null,
   "metadata": {
    "scrolled": false
   },
   "outputs": [],
   "source": [
    "#### Mulai dari LANGKAH 1\n",
    "# Mengimpor data \n",
    "\n",
    "csv = \"Pola_penyebaran_penduduk_Kendari_2015.csv\"\n",
    "\n",
    "# Read dataset to pandas dataframe\n",
    "dataset = pd.read_csv(csv)\n",
    "dataset.head()"
   ]
  },
  {
   "cell_type": "markdown",
   "metadata": {},
   "source": [
    "#### Pra-Prosesing \n",
    "#### Mari kita pilih beberapa fitur untuk pemodelan. karena ini merupakan syarat algoritma skitlearn:\n",
    "#### Mulai dari LANGKAH 2\n",
    "### seleksi data"
   ]
  },
  {
   "cell_type": "code",
   "execution_count": null,
   "metadata": {},
   "outputs": [],
   "source": [
    "dataset = dataset[['N', 'A', 'Ju', 'Jh', 'T', 'Pola']]\n",
    "dataset.head()\n",
    "#menampilkan row masing-masing spesies\n",
    "dataset.groupby('Pola').size() "
   ]
  },
  {
   "cell_type": "code",
   "execution_count": 5,
   "metadata": {},
   "outputs": [],
   "source": [
    "#### Mulai dari LANGKAH 3\n",
    "#membuat data frame pada masing-masing spesies\n",
    "\n",
    "mengelompok = dataset[dataset['Pola']=='Mengelompok']\n",
    "acak = dataset[dataset['Pola']=='Acak']\n",
    "seragam = dataset[dataset['Pola']=='Seragam']\n",
    "#### Akhir dari LANGKAH 3"
   ]
  },
  {
   "cell_type": "code",
   "execution_count": 6,
   "metadata": {},
   "outputs": [
    {
     "data": {
      "text/html": [
       "<div>\n",
       "<style scoped>\n",
       "    .dataframe tbody tr th:only-of-type {\n",
       "        vertical-align: middle;\n",
       "    }\n",
       "\n",
       "    .dataframe tbody tr th {\n",
       "        vertical-align: top;\n",
       "    }\n",
       "\n",
       "    .dataframe thead th {\n",
       "        text-align: right;\n",
       "    }\n",
       "</style>\n",
       "<table border=\"1\" class=\"dataframe\">\n",
       "  <thead>\n",
       "    <tr style=\"text-align: right;\">\n",
       "      <th></th>\n",
       "      <th>N</th>\n",
       "      <th>A</th>\n",
       "      <th>Ju</th>\n",
       "      <th>Jh</th>\n",
       "      <th>T</th>\n",
       "    </tr>\n",
       "  </thead>\n",
       "  <tbody>\n",
       "    <tr>\n",
       "      <th>count</th>\n",
       "      <td>1.0</td>\n",
       "      <td>1.00</td>\n",
       "      <td>1.00</td>\n",
       "      <td>1.00</td>\n",
       "      <td>1.00</td>\n",
       "    </tr>\n",
       "    <tr>\n",
       "      <th>mean</th>\n",
       "      <td>10.0</td>\n",
       "      <td>22.41</td>\n",
       "      <td>0.59</td>\n",
       "      <td>0.75</td>\n",
       "      <td>0.74</td>\n",
       "    </tr>\n",
       "    <tr>\n",
       "      <th>std</th>\n",
       "      <td>NaN</td>\n",
       "      <td>NaN</td>\n",
       "      <td>NaN</td>\n",
       "      <td>NaN</td>\n",
       "      <td>NaN</td>\n",
       "    </tr>\n",
       "    <tr>\n",
       "      <th>min</th>\n",
       "      <td>10.0</td>\n",
       "      <td>22.41</td>\n",
       "      <td>0.59</td>\n",
       "      <td>0.75</td>\n",
       "      <td>0.74</td>\n",
       "    </tr>\n",
       "    <tr>\n",
       "      <th>25%</th>\n",
       "      <td>10.0</td>\n",
       "      <td>22.41</td>\n",
       "      <td>0.59</td>\n",
       "      <td>0.75</td>\n",
       "      <td>0.74</td>\n",
       "    </tr>\n",
       "    <tr>\n",
       "      <th>50%</th>\n",
       "      <td>10.0</td>\n",
       "      <td>22.41</td>\n",
       "      <td>0.59</td>\n",
       "      <td>0.75</td>\n",
       "      <td>0.74</td>\n",
       "    </tr>\n",
       "    <tr>\n",
       "      <th>75%</th>\n",
       "      <td>10.0</td>\n",
       "      <td>22.41</td>\n",
       "      <td>0.59</td>\n",
       "      <td>0.75</td>\n",
       "      <td>0.74</td>\n",
       "    </tr>\n",
       "    <tr>\n",
       "      <th>max</th>\n",
       "      <td>10.0</td>\n",
       "      <td>22.41</td>\n",
       "      <td>0.59</td>\n",
       "      <td>0.75</td>\n",
       "      <td>0.74</td>\n",
       "    </tr>\n",
       "  </tbody>\n",
       "</table>\n",
       "</div>"
      ],
      "text/plain": [
       "          N      A    Ju    Jh     T\n",
       "count   1.0   1.00  1.00  1.00  1.00\n",
       "mean   10.0  22.41  0.59  0.75  0.74\n",
       "std     NaN    NaN   NaN   NaN   NaN\n",
       "min    10.0  22.41  0.59  0.75  0.74\n",
       "25%    10.0  22.41  0.59  0.75  0.74\n",
       "50%    10.0  22.41  0.59  0.75  0.74\n",
       "75%    10.0  22.41  0.59  0.75  0.74\n",
       "max    10.0  22.41  0.59  0.75  0.74"
      ]
     },
     "execution_count": 6,
     "metadata": {},
     "output_type": "execute_result"
    }
   ],
   "source": [
    "mengelompok.describe()"
   ]
  },
  {
   "cell_type": "code",
   "execution_count": 7,
   "metadata": {},
   "outputs": [
    {
     "data": {
      "text/html": [
       "<div>\n",
       "<style scoped>\n",
       "    .dataframe tbody tr th:only-of-type {\n",
       "        vertical-align: middle;\n",
       "    }\n",
       "\n",
       "    .dataframe tbody tr th {\n",
       "        vertical-align: top;\n",
       "    }\n",
       "\n",
       "    .dataframe thead th {\n",
       "        text-align: right;\n",
       "    }\n",
       "</style>\n",
       "<table border=\"1\" class=\"dataframe\">\n",
       "  <thead>\n",
       "    <tr style=\"text-align: right;\">\n",
       "      <th></th>\n",
       "      <th>N</th>\n",
       "      <th>A</th>\n",
       "      <th>Ju</th>\n",
       "      <th>Jh</th>\n",
       "      <th>T</th>\n",
       "    </tr>\n",
       "  </thead>\n",
       "  <tbody>\n",
       "    <tr>\n",
       "      <th>count</th>\n",
       "      <td>8.00000</td>\n",
       "      <td>8.000000</td>\n",
       "      <td>8.000000</td>\n",
       "      <td>8.000000</td>\n",
       "      <td>8.000000</td>\n",
       "    </tr>\n",
       "    <tr>\n",
       "      <th>mean</th>\n",
       "      <td>16.87500</td>\n",
       "      <td>33.233750</td>\n",
       "      <td>0.706250</td>\n",
       "      <td>0.720000</td>\n",
       "      <td>1.063750</td>\n",
       "    </tr>\n",
       "    <tr>\n",
       "      <th>std</th>\n",
       "      <td>5.76783</td>\n",
       "      <td>17.944855</td>\n",
       "      <td>0.063457</td>\n",
       "      <td>0.071714</td>\n",
       "      <td>0.152778</td>\n",
       "    </tr>\n",
       "    <tr>\n",
       "      <th>min</th>\n",
       "      <td>11.00000</td>\n",
       "      <td>9.730000</td>\n",
       "      <td>0.610000</td>\n",
       "      <td>0.640000</td>\n",
       "      <td>0.870000</td>\n",
       "    </tr>\n",
       "    <tr>\n",
       "      <th>25%</th>\n",
       "      <td>12.50000</td>\n",
       "      <td>19.430000</td>\n",
       "      <td>0.675000</td>\n",
       "      <td>0.662500</td>\n",
       "      <td>0.985000</td>\n",
       "    </tr>\n",
       "    <tr>\n",
       "      <th>50%</th>\n",
       "      <td>16.00000</td>\n",
       "      <td>34.560000</td>\n",
       "      <td>0.710000</td>\n",
       "      <td>0.715000</td>\n",
       "      <td>1.055000</td>\n",
       "    </tr>\n",
       "    <tr>\n",
       "      <th>75%</th>\n",
       "      <td>20.25000</td>\n",
       "      <td>47.522500</td>\n",
       "      <td>0.750000</td>\n",
       "      <td>0.772500</td>\n",
       "      <td>1.142500</td>\n",
       "    </tr>\n",
       "    <tr>\n",
       "      <th>max</th>\n",
       "      <td>27.00000</td>\n",
       "      <td>55.510000</td>\n",
       "      <td>0.780000</td>\n",
       "      <td>0.830000</td>\n",
       "      <td>1.340000</td>\n",
       "    </tr>\n",
       "  </tbody>\n",
       "</table>\n",
       "</div>"
      ],
      "text/plain": [
       "              N          A        Ju        Jh         T\n",
       "count   8.00000   8.000000  8.000000  8.000000  8.000000\n",
       "mean   16.87500  33.233750  0.706250  0.720000  1.063750\n",
       "std     5.76783  17.944855  0.063457  0.071714  0.152778\n",
       "min    11.00000   9.730000  0.610000  0.640000  0.870000\n",
       "25%    12.50000  19.430000  0.675000  0.662500  0.985000\n",
       "50%    16.00000  34.560000  0.710000  0.715000  1.055000\n",
       "75%    20.25000  47.522500  0.750000  0.772500  1.142500\n",
       "max    27.00000  55.510000  0.780000  0.830000  1.340000"
      ]
     },
     "execution_count": 7,
     "metadata": {},
     "output_type": "execute_result"
    }
   ],
   "source": [
    "acak.describe()"
   ]
  },
  {
   "cell_type": "code",
   "execution_count": 8,
   "metadata": {},
   "outputs": [
    {
     "data": {
      "text/html": [
       "<div>\n",
       "<style scoped>\n",
       "    .dataframe tbody tr th:only-of-type {\n",
       "        vertical-align: middle;\n",
       "    }\n",
       "\n",
       "    .dataframe tbody tr th {\n",
       "        vertical-align: top;\n",
       "    }\n",
       "\n",
       "    .dataframe thead th {\n",
       "        text-align: right;\n",
       "    }\n",
       "</style>\n",
       "<table border=\"1\" class=\"dataframe\">\n",
       "  <thead>\n",
       "    <tr style=\"text-align: right;\">\n",
       "      <th></th>\n",
       "      <th>N</th>\n",
       "      <th>A</th>\n",
       "      <th>Ju</th>\n",
       "      <th>Jh</th>\n",
       "      <th>T</th>\n",
       "    </tr>\n",
       "  </thead>\n",
       "  <tbody>\n",
       "    <tr>\n",
       "      <th>count</th>\n",
       "      <td>1.0</td>\n",
       "      <td>1.00</td>\n",
       "      <td>1.00</td>\n",
       "      <td>1.00</td>\n",
       "      <td>1.00</td>\n",
       "    </tr>\n",
       "    <tr>\n",
       "      <th>mean</th>\n",
       "      <td>11.0</td>\n",
       "      <td>7.61</td>\n",
       "      <td>0.97</td>\n",
       "      <td>0.41</td>\n",
       "      <td>1.53</td>\n",
       "    </tr>\n",
       "    <tr>\n",
       "      <th>std</th>\n",
       "      <td>NaN</td>\n",
       "      <td>NaN</td>\n",
       "      <td>NaN</td>\n",
       "      <td>NaN</td>\n",
       "      <td>NaN</td>\n",
       "    </tr>\n",
       "    <tr>\n",
       "      <th>min</th>\n",
       "      <td>11.0</td>\n",
       "      <td>7.61</td>\n",
       "      <td>0.97</td>\n",
       "      <td>0.41</td>\n",
       "      <td>1.53</td>\n",
       "    </tr>\n",
       "    <tr>\n",
       "      <th>25%</th>\n",
       "      <td>11.0</td>\n",
       "      <td>7.61</td>\n",
       "      <td>0.97</td>\n",
       "      <td>0.41</td>\n",
       "      <td>1.53</td>\n",
       "    </tr>\n",
       "    <tr>\n",
       "      <th>50%</th>\n",
       "      <td>11.0</td>\n",
       "      <td>7.61</td>\n",
       "      <td>0.97</td>\n",
       "      <td>0.41</td>\n",
       "      <td>1.53</td>\n",
       "    </tr>\n",
       "    <tr>\n",
       "      <th>75%</th>\n",
       "      <td>11.0</td>\n",
       "      <td>7.61</td>\n",
       "      <td>0.97</td>\n",
       "      <td>0.41</td>\n",
       "      <td>1.53</td>\n",
       "    </tr>\n",
       "    <tr>\n",
       "      <th>max</th>\n",
       "      <td>11.0</td>\n",
       "      <td>7.61</td>\n",
       "      <td>0.97</td>\n",
       "      <td>0.41</td>\n",
       "      <td>1.53</td>\n",
       "    </tr>\n",
       "  </tbody>\n",
       "</table>\n",
       "</div>"
      ],
      "text/plain": [
       "          N     A    Ju    Jh     T\n",
       "count   1.0  1.00  1.00  1.00  1.00\n",
       "mean   11.0  7.61  0.97  0.41  1.53\n",
       "std     NaN   NaN   NaN   NaN   NaN\n",
       "min    11.0  7.61  0.97  0.41  1.53\n",
       "25%    11.0  7.61  0.97  0.41  1.53\n",
       "50%    11.0  7.61  0.97  0.41  1.53\n",
       "75%    11.0  7.61  0.97  0.41  1.53\n",
       "max    11.0  7.61  0.97  0.41  1.53"
      ]
     },
     "execution_count": 8,
     "metadata": {},
     "output_type": "execute_result"
    }
   ],
   "source": [
    "seragam.describe()"
   ]
  },
  {
   "cell_type": "code",
   "execution_count": 9,
   "metadata": {},
   "outputs": [
    {
     "data": {
      "text/html": [
       "<div>\n",
       "<style scoped>\n",
       "    .dataframe tbody tr th:only-of-type {\n",
       "        vertical-align: middle;\n",
       "    }\n",
       "\n",
       "    .dataframe tbody tr th {\n",
       "        vertical-align: top;\n",
       "    }\n",
       "\n",
       "    .dataframe thead th {\n",
       "        text-align: right;\n",
       "    }\n",
       "</style>\n",
       "<table border=\"1\" class=\"dataframe\">\n",
       "  <thead>\n",
       "    <tr style=\"text-align: right;\">\n",
       "      <th></th>\n",
       "      <th>N</th>\n",
       "      <th>A</th>\n",
       "      <th>Ju</th>\n",
       "      <th>Jh</th>\n",
       "      <th>T</th>\n",
       "    </tr>\n",
       "  </thead>\n",
       "  <tbody>\n",
       "    <tr>\n",
       "      <th>count</th>\n",
       "      <td>10.000000</td>\n",
       "      <td>10.000000</td>\n",
       "      <td>10.000000</td>\n",
       "      <td>10.000000</td>\n",
       "      <td>10.000000</td>\n",
       "    </tr>\n",
       "    <tr>\n",
       "      <th>mean</th>\n",
       "      <td>15.600000</td>\n",
       "      <td>29.589000</td>\n",
       "      <td>0.721000</td>\n",
       "      <td>0.692000</td>\n",
       "      <td>1.078000</td>\n",
       "    </tr>\n",
       "    <tr>\n",
       "      <th>std</th>\n",
       "      <td>5.758086</td>\n",
       "      <td>17.935108</td>\n",
       "      <td>0.110096</td>\n",
       "      <td>0.117927</td>\n",
       "      <td>0.231795</td>\n",
       "    </tr>\n",
       "    <tr>\n",
       "      <th>min</th>\n",
       "      <td>10.000000</td>\n",
       "      <td>7.610000</td>\n",
       "      <td>0.590000</td>\n",
       "      <td>0.410000</td>\n",
       "      <td>0.740000</td>\n",
       "    </tr>\n",
       "    <tr>\n",
       "      <th>25%</th>\n",
       "      <td>11.000000</td>\n",
       "      <td>15.950000</td>\n",
       "      <td>0.645000</td>\n",
       "      <td>0.647500</td>\n",
       "      <td>0.915000</td>\n",
       "    </tr>\n",
       "    <tr>\n",
       "      <th>50%</th>\n",
       "      <td>13.000000</td>\n",
       "      <td>22.870000</td>\n",
       "      <td>0.710000</td>\n",
       "      <td>0.715000</td>\n",
       "      <td>1.055000</td>\n",
       "    </tr>\n",
       "    <tr>\n",
       "      <th>75%</th>\n",
       "      <td>19.750000</td>\n",
       "      <td>46.682500</td>\n",
       "      <td>0.770000</td>\n",
       "      <td>0.765000</td>\n",
       "      <td>1.147500</td>\n",
       "    </tr>\n",
       "    <tr>\n",
       "      <th>max</th>\n",
       "      <td>27.000000</td>\n",
       "      <td>55.510000</td>\n",
       "      <td>0.970000</td>\n",
       "      <td>0.830000</td>\n",
       "      <td>1.530000</td>\n",
       "    </tr>\n",
       "  </tbody>\n",
       "</table>\n",
       "</div>"
      ],
      "text/plain": [
       "               N          A         Ju         Jh          T\n",
       "count  10.000000  10.000000  10.000000  10.000000  10.000000\n",
       "mean   15.600000  29.589000   0.721000   0.692000   1.078000\n",
       "std     5.758086  17.935108   0.110096   0.117927   0.231795\n",
       "min    10.000000   7.610000   0.590000   0.410000   0.740000\n",
       "25%    11.000000  15.950000   0.645000   0.647500   0.915000\n",
       "50%    13.000000  22.870000   0.710000   0.715000   1.055000\n",
       "75%    19.750000  46.682500   0.770000   0.765000   1.147500\n",
       "max    27.000000  55.510000   0.970000   0.830000   1.530000"
      ]
     },
     "execution_count": 9,
     "metadata": {},
     "output_type": "execute_result"
    }
   ],
   "source": [
    "# deskripsi dataset secara kesuluruhan\n",
    "dataset.describe()"
   ]
  },
  {
   "cell_type": "markdown",
   "metadata": {},
   "source": [
    "Menampilkan Plot Data"
   ]
  },
  {
   "cell_type": "code",
   "execution_count": 10,
   "metadata": {},
   "outputs": [
    {
     "data": {
      "text/plain": [
       "<Figure size 432x288 with 0 Axes>"
      ]
     },
     "metadata": {},
     "output_type": "display_data"
    },
    {
     "data": {
      "image/png": "[encoded data removed]",
      "text/plain": [
       "<Figure size 1080x360 with 2 Axes>"
      ]
     },
     "metadata": {
      "needs_background": "light"
     },
     "output_type": "display_data"
    }
   ],
   "source": [
    "import matplotlib.pyplot as plt\n",
    "plt.figure()\n",
    "fig,ax=plt.subplots(1,2,figsize=(15, 5))\n",
    "mengelompok.plot(x=\"N\", y=\"A\", kind=\"scatter\",ax=ax[0],label='mengelompok',color='r')\n",
    "acak.plot(x=\"N\",y=\"A\",kind=\"scatter\",ax=ax[0],label='acak',color='b')\n",
    "seragam.plot(x=\"N\", y=\"A\", kind=\"scatter\", ax=ax[0], label='seragam', color='g')\n",
    "\n",
    "mengelompok.plot(x=\"Ju\", y=\"Jh\", kind=\"scatter\",ax=ax[1],label='mengelompok',color='r')\n",
    "acak.plot(x=\"Ju\",y=\"Jh\",kind=\"scatter\",ax=ax[1],label='acak',color='b')\n",
    "seragam.plot(x=\"Ju\", y=\"Jh\", kind=\"scatter\", ax=ax[1], label='seragam', color='g')\n",
    "\n",
    "ax[0].set(title='Perbandingan Wilayah', ylabel='Jumlah titik/wilayah')\n",
    "ax[1].set(title='Perbandingan Titik',  ylabel='rata-rata antar titik')\n",
    "ax[0].legend()\n",
    "ax[1].legend()\n",
    "plt.savefig('knn.png')"
   ]
  },
  {
   "cell_type": "markdown",
   "metadata": {},
   "source": [
    "Langkah selanjutnya adalah memanggil data yang akan kita gunakan untuk membuat KNN. \n",
    "Misal masing-masing target/pola kita, mengelompok,  acak, seragam.\n",
    "Pada output di bawah ini dapat dilihat jika kita menggunakan K=1 dan data baru a=[1.0,2.7,3.6,4.2,3.1]. \n",
    "a mewakili masing-masing nilai feature. Hasilnya adalah Seragam.\n"
   ]
  },
  {
   "cell_type": "code",
   "execution_count": 12,
   "metadata": {},
   "outputs": [
    {
     "data": {
      "text/plain": [
       "array(['Seragam'], dtype=object)"
      ]
     },
     "execution_count": 12,
     "metadata": {},
     "output_type": "execute_result"
    }
   ],
   "source": [
    "x = dataset.iloc[:, :-1].values  \n",
    "y = dataset.iloc[:, 5].values\n",
    "from sklearn.neighbors import KNeighborsClassifier\n",
    "import numpy as np\n",
    "knn=KNeighborsClassifier(n_neighbors=1) #define K=1\n",
    "knn.fit(x,y)\n",
    "a=np.array([[1.0,2.7,3.6,4.2,3.1]])\n",
    "knn.predict(a)"
   ]
  },
  {
   "cell_type": "markdown",
   "metadata": {},
   "source": [
    "Jika saya ganti nilai k=3 dengan nilai data a berubah, maka hasil menjadi Acak."
   ]
  },
  {
   "cell_type": "code",
   "execution_count": 14,
   "metadata": {},
   "outputs": [
    {
     "data": {
      "text/plain": [
       "array(['Acak'], dtype=object)"
      ]
     },
     "execution_count": 14,
     "metadata": {},
     "output_type": "execute_result"
    }
   ],
   "source": [
    "from sklearn.neighbors import KNeighborsClassifier\n",
    "import numpy as np\n",
    "knn=KNeighborsClassifier(n_neighbors=5) #define K=3\n",
    "knn.fit(x,y)\n",
    "a=np.array([[1.0,2.7,3.6,4.2,2]])\n",
    "knn.predict(a)"
   ]
  },
  {
   "cell_type": "markdown",
   "metadata": {},
   "source": [
    "Untuk menghindari overfitting, kita dapat membagi pola dataset tadi menjadi data train dan test. Perbandingannya 80%:20%, sehingga bakal ada x  buat training dan testing, begitu juga dengan y bakal ada y buat training dan  testing. "
   ]
  },
  {
   "cell_type": "code",
   "execution_count": 16,
   "metadata": {},
   "outputs": [],
   "source": [
    "from sklearn.model_selection import train_test_split   \n",
    "x_train, x_test, y_train, y_test = train_test_split(x, y, test_size=0.20)"
   ]
  },
  {
   "cell_type": "code",
   "execution_count": 17,
   "metadata": {},
   "outputs": [],
   "source": [
    "from sklearn.preprocessing import StandardScaler  \n",
    "scaler = StandardScaler()  \n",
    "scaler.fit(x_train)\n",
    "\n",
    "x_train = scaler.transform(x_train)  \n",
    "x_test = scaler.transform(x_test)"
   ]
  },
  {
   "cell_type": "code",
   "execution_count": 18,
   "metadata": {},
   "outputs": [
    {
     "data": {
      "text/plain": [
       "KNeighborsClassifier(algorithm='auto', leaf_size=30, metric='minkowski',\n",
       "           metric_params=None, n_jobs=None, n_neighbors=5, p=2,\n",
       "           weights='uniform')"
      ]
     },
     "execution_count": 18,
     "metadata": {},
     "output_type": "execute_result"
    }
   ],
   "source": [
    "from sklearn.neighbors import KNeighborsClassifier  \n",
    "classifier = KNeighborsClassifier(n_neighbors=5)  \n",
    "classifier.fit(x_train, y_train)"
   ]
  },
  {
   "cell_type": "code",
   "execution_count": 19,
   "metadata": {},
   "outputs": [],
   "source": [
    "y_pred = classifier.predict(x_test)"
   ]
  },
  {
   "cell_type": "code",
   "execution_count": 20,
   "metadata": {},
   "outputs": [
    {
     "data": {
      "text/plain": [
       "array(['Acak', 'Acak'], dtype=object)"
      ]
     },
     "execution_count": 20,
     "metadata": {},
     "output_type": "execute_result"
    }
   ],
   "source": [
    "y_pred"
   ]
  },
  {
   "cell_type": "code",
   "execution_count": 21,
   "metadata": {},
   "outputs": [
    {
     "name": "stdout",
     "output_type": "stream",
     "text": [
      "[[2]]\n",
      "              precision    recall  f1-score   support\n",
      "\n",
      "        Acak       1.00      1.00      1.00         2\n",
      "\n",
      "   micro avg       1.00      1.00      1.00         2\n",
      "   macro avg       1.00      1.00      1.00         2\n",
      "weighted avg       1.00      1.00      1.00         2\n",
      "\n"
     ]
    }
   ],
   "source": [
    "from sklearn.metrics import classification_report, confusion_matrix  \n",
    "print(confusion_matrix(y_test, y_pred))  \n",
    "print(classification_report(y_test, y_pred))"
   ]
  },
  {
   "cell_type": "markdown",
   "metadata": {},
   "source": [
    "Menentukan nilai K\n",
    "Nah sekarang kita akan mencari tahu nilai K berapa yang akan menghasilkan akurasi tinggi. \n",
    "Karena kita tahu sendiri pada algoritma KNN, penentuan nilai K sangatlah krusial. \n",
    "Kita akan melihat nilai K dari 1–9. Berikut code yang dapat kita gunakan:"
   ]
  },
  {
   "cell_type": "code",
   "execution_count": 15,
   "metadata": {},
   "outputs": [],
   "source": [
    "error = []\n",
    "\n",
    "# Calculating error for K values between 1 and 40\n",
    "for i in range(1, 9):  \n",
    "    knn = KNeighborsClassifier(n_neighbors=i)\n",
    "    knn.fit(x_train, y_train)\n",
    "    pred_i = knn.predict(x_test)\n",
    "    error.append(np.mean(pred_i != y_test))"
   ]
  },
  {
   "cell_type": "code",
   "execution_count": 16,
   "metadata": {},
   "outputs": [
    {
     "data": {
      "text/plain": [
       "Text(0, 0.5, 'Error rata-rata')"
      ]
     },
     "execution_count": 16,
     "metadata": {},
     "output_type": "execute_result"
    },
    {
     "data": {
      "image/png": "[encoded data removed]",
      "text/plain": [
       "<Figure size 864x432 with 1 Axes>"
      ]
     },
     "metadata": {
      "needs_background": "light"
     },
     "output_type": "display_data"
    }
   ],
   "source": [
    "plt.figure(figsize=(12, 6))  \n",
    "plt.plot(range(1, 9), error, color='red', linestyle='dashed', marker='o',  \n",
    "         markerfacecolor='blue', markersize=10)\n",
    "plt.title('Error Rate Nilai K')  \n",
    "plt.xlabel('Nilai K')  \n",
    "plt.ylabel('Error rata-rata')"
   ]
  },
  {
   "cell_type": "markdown",
   "metadata": {},
   "source": [
    "Dari hasil di atas kita dapat melihat bahwa yang memiliki nilai error rata-rata 0 adalah ketika nilai K sebesar 1-8. \n",
    "Hasil ini dapat dijadikan pedoman ketika kita ingin menggunakan nilai K yang memiliki akurasi tinggi. \n",
    "Dari situ  kita dapat meminimalisir kesalahan prediksi.\n",
    "Kita juga dapat membuat code menjadi dinamis, sehingga memungkinkan    \n",
    "adanya interaksi ketika kita memasukkan data. Dengan menambahkan                  \n",
    "beberapa perintah logika kita dapat melakukan hal tersebut.\n"
   ]
  },
  {
   "cell_type": "code",
   "execution_count": null,
   "metadata": {},
   "outputs": [],
   "source": [
    "## import numpy as np\n",
    "from sklearn import neighbors, datasets\n",
    "from sklearn import preprocessing \n",
    " \n",
    "n_neighbors = 10\n",
    " \n",
    "# prepare data\n",
    "#X = dataset.iloc[:, :-1].values  \n",
    "#y = dataset.iloc[:, 4].values\n",
    "h = .02 \n",
    " \n",
    "# we create an instance of Neighbours Classifier and fit the data.\n",
    "clf = neighbors.KNeighborsClassifier(n_neighbors, weights='distance')\n",
    "clf.fit(x, y)\n",
    " \n",
    "# make prediction\n",
    "n = input('Jumlah Titik: ')\n",
    "a = input('Jumlah Luas: ')\n",
    "ju = input('Jarak Rata-rata antar Titik Tetangga: ')\n",
    "jh = input('Jarak Rata-rata antar Titik Wilayah: ')\n",
    "t = input('Hasil Perhitungan: ')\n",
    "dataClass = clf.predict([[n,a,ju,jh,t]])\n",
    "print('Prediction: '),\n",
    " \n",
    "if dataClass == 'Mengelompok':\n",
    "    print('Mengelompok')\n",
    "elif dataClass == 'Acak':\n",
    "    print('Acak')\n",
    "else:\n",
    "    print('Seragam')"
   ]
  },
  {
   "cell_type": "markdown",
   "metadata": {},
   "source": []
  }
 ],
 "metadata": {
  "kernelspec": {
   "display_name": "Python 3",
   "language": "python",
   "name": "python3"
  },
  "language_info": {
   "codemirror_mode": {
    "name": "ipython",
    "version": 3
   },
   "file_extension": ".py",
   "mimetype": "text/x-python",
   "name": "python",
   "nbconvert_exporter": "python",
   "pygments_lexer": "ipython3",
   "version": "3.7.3"
  }
 },
 "nbformat": 4,
 "nbformat_minor": 2
}
